{
 "cells": [
  {
   "cell_type": "code",
   "execution_count": 3,
   "source": [
    "import torch\n",
    "from torch import nn\n",
    "from torch import autograd\n",
    "import numpy as np\n",
    "import pylab as pl\n",
    "from scipy import integrate"
   ],
   "outputs": [],
   "metadata": {}
  },
  {
   "cell_type": "code",
   "execution_count": 5,
   "source": [
    "class Block(nn.Module):\n",
    "    def __init__(self, in_features, out_features):\n",
    "        super().__init__()\n",
    "\n",
    "        self.block = nn.Sequential(\n",
    "            nn.Linear(in_features, out_features),\n",
    "            nn.GELU(),\n",
    "            #nn.BatchNorm1d(out_features)\n",
    "        )\n",
    "    def forward(self, x):\n",
    "        return self.block(x)\n",
    "\n",
    "\n",
    "class MLP(nn.Module):\n",
    "    def __init__(self):\n",
    "        super().__init__()\n",
    "\n",
    "        self.layers = nn.Sequential(\n",
    "            Block(1, 256),\n",
    "            Block(256, 256),\n",
    "            nn.Linear(256, 2)\n",
    "        )\n",
    "\n",
    "    def forward(self, x):\n",
    "        return torch.view_as_complex(self.layers(x))\n"
   ],
   "outputs": [],
   "metadata": {}
  },
  {
   "cell_type": "code",
   "execution_count": 16,
   "source": [
    "class GaussIntegrator:\n",
    "    def __init__(self, n_points=16):\n",
    "        self.n_points = n_points\n",
    "        q, w = np.polynomial.legendre.leggauss(n_points)\n",
    "\n",
    "        self.q = torch.from_numpy(q).view(-1, 1).float()\n",
    "        self.w = torch.from_numpy(w).float()\n",
    "\n",
    "        self.q.requires_grad = True\n",
    "        self.w.requires_grad = True\n",
    "\n",
    "    def __call__(self, f, bounds=[-1, 1]):\n",
    "        if bounds == \"inf\":\n",
    "            def g(x): return f(x / (1-x**2)) * (1+x.ravel()**2) / (1-x.ravel()**2)**2\n",
    "        \n",
    "        elif bounds[1] == \"inf\":\n",
    "            a = bounds[0]\n",
    "            def g(x): return f(a + x / (1-x)) / (1-x.ravel()**2)\n",
    "\n",
    "        else:\n",
    "            b, a = bounds\n",
    "            s, d = (b+a) * 0.5, (b-a) * 0.5\n",
    "            def g(x): return f(d*x + s) * d\n",
    "\n",
    "        return torch.sum(g(self.q).ravel() * self.w)\n",
    "\n",
    "\n",
    "def hydrogen_potential(x, net):\n",
    "    return -1/x.ravel() * net(x)\n",
    "\n",
    "\n",
    "class QuantumLoss():\n",
    "    def __init__(self, net, potential, integrator=None, bounds=\"inf\"):\n",
    "        self.net = net\n",
    "        self.potential = potential\n",
    "\n",
    "        if integrator is None:\n",
    "            integrator = GaussIntegrator(n_points=64)\n",
    "        self.integrator = integrator\n",
    "\n",
    "        self.bounds = bounds\n",
    "\n",
    "    def potential_functional(self, x):\n",
    "        return (self.net(x).conj() * self.potential(x, self.net)).real\n",
    "\n",
    "    def kinetic_functional(self, x):\n",
    "        return autograd.functional.jvp(self.net, x, torch.ones_like(x), create_graph=True)[1].abs()**2\n",
    "\n",
    "    def __call__(self):\n",
    "        potential_energy = self.integrator(self.potential_functional, self.bounds)\n",
    "        kinetic_energy = self.integrator(self.kinetic_functional, self.bounds)\n",
    "        function_norm = self.integrator(lambda x: self.net(x).abs()**2, self.bounds)\n",
    "\n",
    "        return (potential_energy + kinetic_energy) / function_norm\n"
   ],
   "outputs": [],
   "metadata": {}
  },
  {
   "cell_type": "code",
   "execution_count": 23,
   "source": [
    "net = MLP()\n",
    "\n",
    "criterion = QuantumLoss(lambda x: net(x)*(torch.exp(-x**2).ravel()), hydrogen_potential)\n",
    "optimizer = torch.optim.Rprop(net.parameters())\n",
    "\n",
    "losses = []\n",
    "for i in range(1000):\n",
    "    optimizer.zero_grad()\n",
    "    loss = criterion()\n",
    "    loss.backward()\n",
    "    optimizer.step()\n",
    "    losses.append(loss.item())\n",
    "\n",
    "pl.plot(losses)"
   ],
   "outputs": [
    {
     "output_type": "execute_result",
     "data": {
      "text/plain": [
       "[<matplotlib.lines.Line2D at 0x7f1701d6ad30>]"
      ]
     },
     "metadata": {},
     "execution_count": 23
    },
    {
     "output_type": "display_data",
     "data": {
      "image/png": "[encoded data removed]",
      "text/plain": [
       "<Figure size 432x288 with 1 Axes>"
      ]
     },
     "metadata": {
      "needs_background": "light"
     }
    }
   ],
   "metadata": {}
  },
  {
   "cell_type": "code",
   "execution_count": 24,
   "source": [
    "x = torch.linspace(-1, 1, 5280)\n",
    "\n",
    "with torch.no_grad():\n",
    "    y = (net(x.view(-1, 1))*torch.exp(-x.ravel()**2)).abs()\n",
    "\n",
    "pl.plot(x, y)"
   ],
   "outputs": [
    {
     "output_type": "execute_result",
     "data": {
      "text/plain": [
       "[<matplotlib.lines.Line2D at 0x7f1701cd3a90>]"
      ]
     },
     "metadata": {},
     "execution_count": 24
    },
    {
     "output_type": "display_data",
     "data": {
      "image/png": "[encoded data removed]",
      "text/plain": [
       "<Figure size 432x288 with 1 Axes>"
      ]
     },
     "metadata": {
      "needs_background": "light"
     }
    }
   ],
   "metadata": {}
  }
 ],
 "metadata": {
  "orig_nbformat": 4,
  "language_info": {
   "name": "python",
   "version": "3.8.11",
   "mimetype": "text/x-python",
   "codemirror_mode": {
    "name": "ipython",
    "version": 3
   },
   "pygments_lexer": "ipython3",
   "nbconvert_exporter": "python",
   "file_extension": ".py"
  },
  "kernelspec": {
   "name": "python3",
   "display_name": "Python 3.8.11 64-bit"
  },
  "interpreter": {
   "hash": "826ac774da20863171be87f505c983a23ca5099031a67b4f2c0e4fe6baa8958e"
  }
 },
 "nbformat": 4,
 "nbformat_minor": 2
}