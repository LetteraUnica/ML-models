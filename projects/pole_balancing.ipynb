{
 "cells": [
  {
   "cell_type": "code",
   "execution_count": 88,
   "metadata": {},
   "outputs": [],
   "source": [
    "import torch\n",
    "from torch import nn\n",
    "from torch.nn import functional as F\n",
    "from random import randint\n",
    "from models.nets import MLP\n",
    "import pylab as pl\n",
    "from random import random, randint\n",
    "import numpy as np\n",
    "\n",
    "import gym"
   ]
  },
  {
   "cell_type": "code",
   "execution_count": 87,
   "metadata": {},
   "outputs": [],
   "source": [
    "env = gym.make('CartPole-v1')"
   ]
  },
  {
   "cell_type": "code",
   "execution_count": 46,
   "metadata": {},
   "outputs": [],
   "source": [
    "from scipy.optimize import dual_annealing\n",
    "\n",
    "def policy_value(x):\n",
    "    reward = 0\n",
    "    for _ in range(2):\n",
    "        s = env.reset()\n",
    "        \n",
    "        while True:\n",
    "            a = 1 if x@s > 0 else 0\n",
    "            if randint(0,2) == 0:\n",
    "                a = randint(0,1)\n",
    "            s, r, done, _ = env.step(a)\n",
    "            reward += r - np.linalg.norm(s)\n",
    "            if done: break\n",
    "\n",
    "    return -reward\n",
    "\n",
    "lw = [-1] * 4\n",
    "up = [1] * 4\n",
    "ret = dual_annealing(policy_value, bounds=list(zip(lw, up)), maxiter=2000, accept=-2)"
   ]
  },
  {
   "cell_type": "code",
   "execution_count": 47,
   "metadata": {},
   "outputs": [
    {
     "data": {
      "text/plain": [
       "     fun: -502.6509241499007\n",
       " message: ['Maximum number of iteration reached']\n",
       "    nfev: 17622\n",
       "    nhev: 0\n",
       "     nit: 2000\n",
       "    njev: 324\n",
       "  status: 0\n",
       " success: True\n",
       "       x: array([0.04813799, 0.15258566, 0.97120855, 0.26692832])"
      ]
     },
     "execution_count": 47,
     "metadata": {},
     "output_type": "execute_result"
    }
   ],
   "source": [
    "ret"
   ]
  },
  {
   "cell_type": "code",
   "execution_count": 99,
   "metadata": {},
   "outputs": [],
   "source": [
    "def perfect_policy(s):\n",
    "    x = np.array([0.04813799, 0.15258566, 0.97120855, 0.26692832])\n",
    "    return 1 if x@s > 0 else 0"
   ]
  },
  {
   "cell_type": "code",
   "execution_count": 102,
   "metadata": {},
   "outputs": [
    {
     "data": {
      "text/plain": [
       "500.0"
      ]
     },
     "execution_count": 102,
     "metadata": {},
     "output_type": "execute_result"
    }
   ],
   "source": [
    "s = env.reset()\n",
    "reward = 0\n",
    "while True:\n",
    "    a = perfect_policy(s)\n",
    "    #if randint(0,2) == 0:\n",
    "    #    a = randint(0,1)\n",
    "    s, r, done, _ = env.step(a)\n",
    "    env.render()\n",
    "    reward += r\n",
    "    if done: break\n",
    "reward\n",
    "    "
   ]
  }
 ],
 "metadata": {
  "interpreter": {
   "hash": "f38bca3c9600444284abf86780be38c386e032d708dbe2e8970d98e9b2d0aa36"
  },
  "kernelspec": {
   "display_name": "Python 3.9.7 ('base')",
   "language": "python",
   "name": "python3"
  },
  "language_info": {
   "codemirror_mode": {
    "name": "ipython",
    "version": 3
   },
   "file_extension": ".py",
   "mimetype": "text/x-python",
   "name": "python",
   "nbconvert_exporter": "python",
   "pygments_lexer": "ipython3",
   "version": "3.9.7"
  },
  "orig_nbformat": 4
 },
 "nbformat": 4,
 "nbformat_minor": 2
}
